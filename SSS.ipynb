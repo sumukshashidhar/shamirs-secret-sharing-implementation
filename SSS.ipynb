{
  "nbformat": 4,
  "nbformat_minor": 0,
  "metadata": {
    "colab": {
      "name": "SSS.ipynb",
      "provenance": [],
      "collapsed_sections": [],
      "authorship_tag": "ABX9TyM+qkW8kfRASkQYixvlamrx",
      "include_colab_link": true
    },
    "kernelspec": {
      "name": "python3",
      "display_name": "Python 3"
    }
  },
  "cells": [
    {
      "cell_type": "markdown",
      "metadata": {
        "id": "view-in-github",
        "colab_type": "text"
      },
      "source": [
        "<a href=\"https://colab.research.google.com/github/sumukshashidhar/shamirs-secret-sharing-implementation/blob/master/SSS.ipynb\" target=\"_parent\"><img src=\"https://colab.research.google.com/assets/colab-badge.svg\" alt=\"Open In Colab\"/></a>"
      ]
    },
    {
      "cell_type": "markdown",
      "metadata": {
        "id": "d7zTYkjVX_wd"
      },
      "source": [
        "# Shamir's Secret Sharing\n",
        "\n",
        "Shamir's Secret Sharing is an algorithm in cryptography created by Adi Shamir. It is a form of secret sharing, where a secret is divided into parts, giving each participant its own unique part.\n",
        "\n",
        "To reconstruct the original secret, a minimum number of parts is required. In the threshold scheme this number is less than the total number of parts. Otherwise all participants are needed to reconstruct the original secret.\n",
        "\n",
        "This is a basic implementation of the idea using integers instead of finite field arithmetic.\n",
        "\n",
        "[Wiki Link](https://en.wikipedia.org/wiki/Shamir%27s_Secret_Sharing)\n",
        "\n"
      ]
    },
    {
      "cell_type": "markdown",
      "metadata": {
        "id": "3bhXuDf2YYHn"
      },
      "source": [
        "# Basis\n",
        "\n",
        "We have a secret\n",
        "\n",
        "` secret = 90231` \n",
        "\n",
        "We want to divide this secret into a total of 3 parts, where any two parts are enough to reconstruct this integer\n",
        "\n",
        "The total number of parts we wish to deconstruct the key into is $n$ and the number of keys that we require to reconstruct is $k$"
      ]
    },
    {
      "cell_type": "code",
      "metadata": {
        "id": "GkFYz_84XucU"
      },
      "source": [
        "secret = 90231\n",
        "n = 3\n",
        "k = 2"
      ],
      "execution_count": 6,
      "outputs": []
    },
    {
      "cell_type": "markdown",
      "metadata": {
        "id": "dfk_tytDY60h"
      },
      "source": [
        "As suggested, we need to obtain $k-1$ random numbers to construct our polynomial"
      ]
    },
    {
      "cell_type": "code",
      "metadata": {
        "id": "w2NQX_B8ZBcK",
        "outputId": "4a201504-9a65-4c26-934e-1c2674b6112a",
        "colab": {
          "base_uri": "https://localhost:8080/"
        }
      },
      "source": [
        "import random\n",
        "r1 = random.randint(1, 10000)\n",
        "r2 = random.randint(1, 10000)\n",
        "print(r1, r2)"
      ],
      "execution_count": 5,
      "outputs": [
        {
          "output_type": "stream",
          "text": [
            "4042 7821\n"
          ],
          "name": "stdout"
        }
      ]
    },
    {
      "cell_type": "markdown",
      "metadata": {
        "id": "Lu7A0kdpZmOk"
      },
      "source": [
        "We have obtained the random numbers $r1=4042$ and $r2=7821$\n",
        "\n",
        "Our **polynomial** therefore becomes $f(x) = 90231 + 4042x + 7821x^2$"
      ]
    },
    {
      "cell_type": "markdown",
      "metadata": {
        "id": "WAipID95aDp0"
      },
      "source": [
        "We will now construct a total of three points from this polynomial"
      ]
    },
    {
      "cell_type": "code",
      "metadata": {
        "id": "LDDbU7HfZGyy",
        "outputId": "d67524d4-3f22-49b0-dc6a-9abbdddb2fa1",
        "colab": {
          "base_uri": "https://localhost:8080/"
        }
      },
      "source": [
        "def get_points(x):\n",
        "    return (secret + r1*x + r2*(x**2))\n",
        "\n",
        "\n",
        "p1 = get_points(1)\n",
        "p2 = get_points(2)\n",
        "p3 = get_points(3)\n",
        "print(p1, p2, p3)"
      ],
      "execution_count": 7,
      "outputs": [
        {
          "output_type": "stream",
          "text": [
            "102094 129599 172746\n"
          ],
          "name": "stdout"
        }
      ]
    },
    {
      "cell_type": "markdown",
      "metadata": {
        "id": "mVKiG_aJa3Xl"
      },
      "source": [
        "Great! We now have three points"
      ]
    },
    {
      "cell_type": "code",
      "metadata": {
        "id": "FgDFdeZha0lN"
      },
      "source": [
        ""
      ],
      "execution_count": null,
      "outputs": []
    }
  ]
}